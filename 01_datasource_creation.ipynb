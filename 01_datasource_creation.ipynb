{
 "cells": [
  {
   "cell_type": "code",
   "execution_count": 1,
   "metadata": {},
   "outputs": [],
   "source": [
    "import logging\n",
    "import sys\n",
    "\n",
    "logging.basicConfig(stream=sys.stdout, level=logging.WARN)\n",
    "logging.getLogger().addHandler(logging.StreamHandler(stream=sys.stdout))"
   ]
  },
  {
   "cell_type": "code",
   "execution_count": 2,
   "metadata": {},
   "outputs": [
    {
     "name": "stdout",
     "output_type": "stream",
     "text": [
      "Installing packages into environment c:\\anaconda3\\envs\\woodsidepoc\\python.exe\n"
     ]
    }
   ],
   "source": [
    "import sys, os\n",
    "\n",
    "print(f\"Installing packages into environment {sys.executable}\")"
   ]
  },
  {
   "cell_type": "code",
   "execution_count": 3,
   "metadata": {},
   "outputs": [
    {
     "name": "stdout",
     "output_type": "stream",
     "text": [
      "Requirement already satisfied: azure-search-documents==11.4.0b8 in c:\\anaconda3\\envs\\woodsidepoc\\lib\\site-packages (11.4.0b8)\n",
      "Requirement already satisfied: azure-core<2.0.0,>=1.24.0 in c:\\anaconda3\\envs\\woodsidepoc\\lib\\site-packages (from azure-search-documents==11.4.0b8) (1.29.5)\n",
      "Requirement already satisfied: azure-common~=1.1 in c:\\anaconda3\\envs\\woodsidepoc\\lib\\site-packages (from azure-search-documents==11.4.0b8) (1.1.28)\n",
      "Requirement already satisfied: isodate>=0.6.0 in c:\\anaconda3\\envs\\woodsidepoc\\lib\\site-packages (from azure-search-documents==11.4.0b8) (0.6.1)\n",
      "Requirement already satisfied: requests>=2.18.4 in c:\\anaconda3\\envs\\woodsidepoc\\lib\\site-packages (from azure-core<2.0.0,>=1.24.0->azure-search-documents==11.4.0b8) (2.31.0)\n",
      "Requirement already satisfied: six>=1.11.0 in c:\\anaconda3\\envs\\woodsidepoc\\lib\\site-packages (from azure-core<2.0.0,>=1.24.0->azure-search-documents==11.4.0b8) (1.16.0)\n",
      "Requirement already satisfied: typing-extensions>=4.6.0 in c:\\anaconda3\\envs\\woodsidepoc\\lib\\site-packages (from azure-core<2.0.0,>=1.24.0->azure-search-documents==11.4.0b8) (4.8.0)\n",
      "Requirement already satisfied: charset-normalizer<4,>=2 in c:\\anaconda3\\envs\\woodsidepoc\\lib\\site-packages (from requests>=2.18.4->azure-core<2.0.0,>=1.24.0->azure-search-documents==11.4.0b8) (3.3.1)\n",
      "Requirement already satisfied: idna<4,>=2.5 in c:\\anaconda3\\envs\\woodsidepoc\\lib\\site-packages (from requests>=2.18.4->azure-core<2.0.0,>=1.24.0->azure-search-documents==11.4.0b8) (3.4)\n",
      "Requirement already satisfied: urllib3<3,>=1.21.1 in c:\\anaconda3\\envs\\woodsidepoc\\lib\\site-packages (from requests>=2.18.4->azure-core<2.0.0,>=1.24.0->azure-search-documents==11.4.0b8) (2.0.7)\n",
      "Requirement already satisfied: certifi>=2017.4.17 in c:\\anaconda3\\envs\\woodsidepoc\\lib\\site-packages (from requests>=2.18.4->azure-core<2.0.0,>=1.24.0->azure-search-documents==11.4.0b8) (2023.7.22)\n",
      "Requirement already satisfied: azure-identity in c:\\anaconda3\\envs\\woodsidepoc\\lib\\site-packages (1.15.0)\n",
      "Requirement already satisfied: azure-core<2.0.0,>=1.23.0 in c:\\anaconda3\\envs\\woodsidepoc\\lib\\site-packages (from azure-identity) (1.29.5)\n",
      "Requirement already satisfied: cryptography>=2.5 in c:\\anaconda3\\envs\\woodsidepoc\\lib\\site-packages (from azure-identity) (41.0.5)\n",
      "Requirement already satisfied: msal<2.0.0,>=1.24.0 in c:\\anaconda3\\envs\\woodsidepoc\\lib\\site-packages (from azure-identity) (1.24.1)\n",
      "Requirement already satisfied: msal-extensions<2.0.0,>=0.3.0 in c:\\anaconda3\\envs\\woodsidepoc\\lib\\site-packages (from azure-identity) (1.0.0)\n",
      "Requirement already satisfied: requests>=2.18.4 in c:\\anaconda3\\envs\\woodsidepoc\\lib\\site-packages (from azure-core<2.0.0,>=1.23.0->azure-identity) (2.31.0)\n",
      "Requirement already satisfied: six>=1.11.0 in c:\\anaconda3\\envs\\woodsidepoc\\lib\\site-packages (from azure-core<2.0.0,>=1.23.0->azure-identity) (1.16.0)\n",
      "Requirement already satisfied: typing-extensions>=4.6.0 in c:\\anaconda3\\envs\\woodsidepoc\\lib\\site-packages (from azure-core<2.0.0,>=1.23.0->azure-identity) (4.8.0)\n",
      "Requirement already satisfied: cffi>=1.12 in c:\\anaconda3\\envs\\woodsidepoc\\lib\\site-packages (from cryptography>=2.5->azure-identity) (1.16.0)\n",
      "Requirement already satisfied: PyJWT<3,>=1.0.0 in c:\\anaconda3\\envs\\woodsidepoc\\lib\\site-packages (from PyJWT[crypto]<3,>=1.0.0->msal<2.0.0,>=1.24.0->azure-identity) (2.8.0)\n",
      "Requirement already satisfied: portalocker<3,>=1.6 in c:\\anaconda3\\envs\\woodsidepoc\\lib\\site-packages (from msal-extensions<2.0.0,>=0.3.0->azure-identity) (2.8.2)\n",
      "Requirement already satisfied: pycparser in c:\\anaconda3\\envs\\woodsidepoc\\lib\\site-packages (from cffi>=1.12->cryptography>=2.5->azure-identity) (2.21)\n",
      "Requirement already satisfied: pywin32>=226 in c:\\anaconda3\\envs\\woodsidepoc\\lib\\site-packages (from portalocker<3,>=1.6->msal-extensions<2.0.0,>=0.3.0->azure-identity) (305.1)\n",
      "Requirement already satisfied: charset-normalizer<4,>=2 in c:\\anaconda3\\envs\\woodsidepoc\\lib\\site-packages (from requests>=2.18.4->azure-core<2.0.0,>=1.23.0->azure-identity) (3.3.1)\n",
      "Requirement already satisfied: idna<4,>=2.5 in c:\\anaconda3\\envs\\woodsidepoc\\lib\\site-packages (from requests>=2.18.4->azure-core<2.0.0,>=1.23.0->azure-identity) (3.4)\n",
      "Requirement already satisfied: urllib3<3,>=1.21.1 in c:\\anaconda3\\envs\\woodsidepoc\\lib\\site-packages (from requests>=2.18.4->azure-core<2.0.0,>=1.23.0->azure-identity) (2.0.7)\n",
      "Requirement already satisfied: certifi>=2017.4.17 in c:\\anaconda3\\envs\\woodsidepoc\\lib\\site-packages (from requests>=2.18.4->azure-core<2.0.0,>=1.23.0->azure-identity) (2023.7.22)\n",
      "Requirement already satisfied: python-dotenv in c:\\anaconda3\\envs\\woodsidepoc\\lib\\site-packages (1.0.0)\n"
     ]
    }
   ],
   "source": [
    "!{sys.executable} -m pip install azure-search-documents==11.4.0b8\n",
    "!{sys.executable} -m pip install azure-identity\n",
    "!{sys.executable} -m pip install python-dotenv"
   ]
  },
  {
   "cell_type": "code",
   "execution_count": 13,
   "metadata": {},
   "outputs": [
    {
     "data": {
      "text/plain": [
       "True"
      ]
     },
     "execution_count": 13,
     "metadata": {},
     "output_type": "execute_result"
    }
   ],
   "source": [
    "from dotenv import load_dotenv\n",
    "import os\n",
    "\n",
    "load_dotenv()  # Load environment variables from .env file"
   ]
  },
  {
   "cell_type": "code",
   "execution_count": 5,
   "metadata": {},
   "outputs": [],
   "source": [
    "from azure.core.credentials import AzureKeyCredential  \n",
    "# Configure connection\n",
    "service_endpoint = os.getenv(\"AZURE_SEARCH_SERVICE_ENDPOINT\")\n",
    "key_credential = AzureKeyCredential(os.getenv('AZURE_SEARCH_ADMIN_KEY'))"
   ]
  },
  {
   "cell_type": "code",
   "execution_count": 6,
   "metadata": {},
   "outputs": [],
   "source": [
    "from azure.search.documents.indexes import SearchIndexClient\n",
    "from azure.search.documents import SearchClient  \n",
    "from azure.search.documents.indexes import SearchIndexerClient\n",
    "# Create a search index\n",
    "\n",
    "indexer_client = SearchIndexerClient(endpoint=service_endpoint, credential=key_credential)"
   ]
  },
  {
   "cell_type": "code",
   "execution_count": 7,
   "metadata": {},
   "outputs": [],
   "source": [
    "from azure.search.documents.indexes.models import ( \n",
    "    SearchIndexerDataSourceConnection,\n",
    "    SearchIndexerDataContainer   \n",
    ")"
   ]
  },
  {
   "cell_type": "code",
   "execution_count": 8,
   "metadata": {},
   "outputs": [],
   "source": [
    "datasource_name = \"blob-demo-datasource05\"\n",
    "container=SearchIndexerDataContainer(name=\"source_container_in_blob\")\n",
    "data_source_connection = SearchIndexerDataSourceConnection(\n",
    "    name=datasource_name,\n",
    "    type=\"azureblob\",\n",
    "    connection_string=os.getenv('DATA_SOURCE_DOCS_RESOURCE'), # DATA_SOURCE_DOCS_CONN to use access key\n",
    "    container=container\n",
    ")\n",
    "\n"
   ]
  },
  {
   "cell_type": "code",
   "execution_count": 10,
   "metadata": {},
   "outputs": [
    {
     "name": "stdout",
     "output_type": "stream",
     "text": [
      "Created data source blob-demo-datasource05\n"
     ]
    }
   ],
   "source": [
    "ds = indexer_client.create_data_source_connection(data_source_connection)\n",
    "print(f\"Created data source {ds.name}\")"
   ]
  },
  {
   "cell_type": "code",
   "execution_count": 15,
   "metadata": {},
   "outputs": [],
   "source": [
    "# adlsgen5-export-datasource\n",
    "\n",
    "datasource_name = \"adlsgen5-export-datasource\"\n",
    "container=SearchIndexerDataContainer(name=\"getest2\")\n",
    "\n",
    "data_source_connection = SearchIndexerDataSourceConnection(\n",
    "    name=datasource_name,\n",
    "    type=\"azureblob\",\n",
    "    connection_string=os.getenv('DATA_SOURCE_EXPORT_RESOURCE'), # DATA_SOURCE_EXPORT_CONN to use access key\n",
    "    container=container\n",
    ")"
   ]
  },
  {
   "cell_type": "code",
   "execution_count": 16,
   "metadata": {},
   "outputs": [
    {
     "name": "stdout",
     "output_type": "stream",
     "text": [
      "Created data source adlsgen5-export-datasource\n"
     ]
    }
   ],
   "source": [
    "ds2=indexer_client.create_data_source_connection(data_source_connection)\n",
    "print(f\"Created data source {ds2.name}\")"
   ]
  },
  {
   "cell_type": "code",
   "execution_count": null,
   "metadata": {},
   "outputs": [],
   "source": []
  }
 ],
 "metadata": {
  "kernelspec": {
   "display_name": "woodsidepoc",
   "language": "python",
   "name": "python3"
  },
  "language_info": {
   "codemirror_mode": {
    "name": "ipython",
    "version": 3
   },
   "file_extension": ".py",
   "mimetype": "text/x-python",
   "name": "python",
   "nbconvert_exporter": "python",
   "pygments_lexer": "ipython3",
   "version": "3.11.5"
  }
 },
 "nbformat": 4,
 "nbformat_minor": 2
}

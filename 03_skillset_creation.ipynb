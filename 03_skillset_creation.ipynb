{
 "cells": [
  {
   "cell_type": "code",
   "execution_count": 1,
   "metadata": {},
   "outputs": [],
   "source": [
    "import logging\n",
    "import sys\n",
    "\n",
    "logging.basicConfig(stream=sys.stdout, level=logging.WARN)\n",
    "logging.getLogger().addHandler(logging.StreamHandler(stream=sys.stdout))"
   ]
  },
  {
   "cell_type": "code",
   "execution_count": 2,
   "metadata": {},
   "outputs": [
    {
     "name": "stdout",
     "output_type": "stream",
     "text": [
      "Installing packages into environment c:\\anaconda3\\envs\\woodsidepoc\\python.exe\n"
     ]
    }
   ],
   "source": [
    "import sys, os\n",
    "\n",
    "print(f\"Installing packages into environment {sys.executable}\")"
   ]
  },
  {
   "cell_type": "code",
   "execution_count": 3,
   "metadata": {},
   "outputs": [
    {
     "name": "stdout",
     "output_type": "stream",
     "text": [
      "Requirement already satisfied: azure-search-documents==11.4.0b8 in c:\\anaconda3\\envs\\woodsidepoc\\lib\\site-packages (11.4.0b8)\n",
      "Requirement already satisfied: azure-core<2.0.0,>=1.24.0 in c:\\anaconda3\\envs\\woodsidepoc\\lib\\site-packages (from azure-search-documents==11.4.0b8) (1.29.5)\n",
      "Requirement already satisfied: azure-common~=1.1 in c:\\anaconda3\\envs\\woodsidepoc\\lib\\site-packages (from azure-search-documents==11.4.0b8) (1.1.28)\n",
      "Requirement already satisfied: isodate>=0.6.0 in c:\\anaconda3\\envs\\woodsidepoc\\lib\\site-packages (from azure-search-documents==11.4.0b8) (0.6.1)\n",
      "Requirement already satisfied: requests>=2.18.4 in c:\\anaconda3\\envs\\woodsidepoc\\lib\\site-packages (from azure-core<2.0.0,>=1.24.0->azure-search-documents==11.4.0b8) (2.31.0)\n",
      "Requirement already satisfied: six>=1.11.0 in c:\\anaconda3\\envs\\woodsidepoc\\lib\\site-packages (from azure-core<2.0.0,>=1.24.0->azure-search-documents==11.4.0b8) (1.16.0)\n",
      "Requirement already satisfied: typing-extensions>=4.6.0 in c:\\anaconda3\\envs\\woodsidepoc\\lib\\site-packages (from azure-core<2.0.0,>=1.24.0->azure-search-documents==11.4.0b8) (4.8.0)\n",
      "Requirement already satisfied: charset-normalizer<4,>=2 in c:\\anaconda3\\envs\\woodsidepoc\\lib\\site-packages (from requests>=2.18.4->azure-core<2.0.0,>=1.24.0->azure-search-documents==11.4.0b8) (3.3.1)\n",
      "Requirement already satisfied: idna<4,>=2.5 in c:\\anaconda3\\envs\\woodsidepoc\\lib\\site-packages (from requests>=2.18.4->azure-core<2.0.0,>=1.24.0->azure-search-documents==11.4.0b8) (3.4)\n",
      "Requirement already satisfied: urllib3<3,>=1.21.1 in c:\\anaconda3\\envs\\woodsidepoc\\lib\\site-packages (from requests>=2.18.4->azure-core<2.0.0,>=1.24.0->azure-search-documents==11.4.0b8) (2.0.7)\n",
      "Requirement already satisfied: certifi>=2017.4.17 in c:\\anaconda3\\envs\\woodsidepoc\\lib\\site-packages (from requests>=2.18.4->azure-core<2.0.0,>=1.24.0->azure-search-documents==11.4.0b8) (2023.7.22)\n",
      "Requirement already satisfied: azure-identity in c:\\anaconda3\\envs\\woodsidepoc\\lib\\site-packages (1.15.0)\n",
      "Requirement already satisfied: azure-core<2.0.0,>=1.23.0 in c:\\anaconda3\\envs\\woodsidepoc\\lib\\site-packages (from azure-identity) (1.29.5)\n",
      "Requirement already satisfied: cryptography>=2.5 in c:\\anaconda3\\envs\\woodsidepoc\\lib\\site-packages (from azure-identity) (41.0.5)\n",
      "Requirement already satisfied: msal<2.0.0,>=1.24.0 in c:\\anaconda3\\envs\\woodsidepoc\\lib\\site-packages (from azure-identity) (1.24.1)\n",
      "Requirement already satisfied: msal-extensions<2.0.0,>=0.3.0 in c:\\anaconda3\\envs\\woodsidepoc\\lib\\site-packages (from azure-identity) (1.0.0)\n",
      "Requirement already satisfied: requests>=2.18.4 in c:\\anaconda3\\envs\\woodsidepoc\\lib\\site-packages (from azure-core<2.0.0,>=1.23.0->azure-identity) (2.31.0)\n",
      "Requirement already satisfied: six>=1.11.0 in c:\\anaconda3\\envs\\woodsidepoc\\lib\\site-packages (from azure-core<2.0.0,>=1.23.0->azure-identity) (1.16.0)\n",
      "Requirement already satisfied: typing-extensions>=4.6.0 in c:\\anaconda3\\envs\\woodsidepoc\\lib\\site-packages (from azure-core<2.0.0,>=1.23.0->azure-identity) (4.8.0)\n",
      "Requirement already satisfied: cffi>=1.12 in c:\\anaconda3\\envs\\woodsidepoc\\lib\\site-packages (from cryptography>=2.5->azure-identity) (1.16.0)\n",
      "Requirement already satisfied: PyJWT<3,>=1.0.0 in c:\\anaconda3\\envs\\woodsidepoc\\lib\\site-packages (from PyJWT[crypto]<3,>=1.0.0->msal<2.0.0,>=1.24.0->azure-identity) (2.8.0)\n",
      "Requirement already satisfied: portalocker<3,>=1.6 in c:\\anaconda3\\envs\\woodsidepoc\\lib\\site-packages (from msal-extensions<2.0.0,>=0.3.0->azure-identity) (2.8.2)\n",
      "Requirement already satisfied: pycparser in c:\\anaconda3\\envs\\woodsidepoc\\lib\\site-packages (from cffi>=1.12->cryptography>=2.5->azure-identity) (2.21)\n",
      "Requirement already satisfied: pywin32>=226 in c:\\anaconda3\\envs\\woodsidepoc\\lib\\site-packages (from portalocker<3,>=1.6->msal-extensions<2.0.0,>=0.3.0->azure-identity) (305.1)\n",
      "Requirement already satisfied: charset-normalizer<4,>=2 in c:\\anaconda3\\envs\\woodsidepoc\\lib\\site-packages (from requests>=2.18.4->azure-core<2.0.0,>=1.23.0->azure-identity) (3.3.1)\n",
      "Requirement already satisfied: idna<4,>=2.5 in c:\\anaconda3\\envs\\woodsidepoc\\lib\\site-packages (from requests>=2.18.4->azure-core<2.0.0,>=1.23.0->azure-identity) (3.4)\n",
      "Requirement already satisfied: urllib3<3,>=1.21.1 in c:\\anaconda3\\envs\\woodsidepoc\\lib\\site-packages (from requests>=2.18.4->azure-core<2.0.0,>=1.23.0->azure-identity) (2.0.7)\n",
      "Requirement already satisfied: certifi>=2017.4.17 in c:\\anaconda3\\envs\\woodsidepoc\\lib\\site-packages (from requests>=2.18.4->azure-core<2.0.0,>=1.23.0->azure-identity) (2023.7.22)\n",
      "Requirement already satisfied: python-dotenv in c:\\anaconda3\\envs\\woodsidepoc\\lib\\site-packages (1.0.0)\n"
     ]
    }
   ],
   "source": [
    "!{sys.executable} -m pip install azure-search-documents==11.4.0b8\n",
    "!{sys.executable} -m pip install azure-identity\n",
    "!{sys.executable} -m pip install python-dotenv"
   ]
  },
  {
   "cell_type": "code",
   "execution_count": 4,
   "metadata": {},
   "outputs": [
    {
     "data": {
      "text/plain": [
       "True"
      ]
     },
     "execution_count": 4,
     "metadata": {},
     "output_type": "execute_result"
    }
   ],
   "source": [
    "from dotenv import load_dotenv\n",
    "import os\n",
    "\n",
    "load_dotenv()  # Load environment variables from .env file"
   ]
  },
  {
   "cell_type": "code",
   "execution_count": 5,
   "metadata": {},
   "outputs": [],
   "source": [
    "from azure.core.credentials import AzureKeyCredential  \n",
    "# Configure connection\n",
    "service_endpoint = os.getenv(\"AZURE_SEARCH_SERVICE_ENDPOINT\")\n",
    "key_credential = AzureKeyCredential(os.getenv('AZURE_SEARCH_ADMIN_KEY'))"
   ]
  },
  {
   "cell_type": "code",
   "execution_count": 6,
   "metadata": {},
   "outputs": [],
   "source": [
    "from azure.search.documents.indexes import SearchIndexClient\n",
    "from azure.search.documents import SearchClient  \n",
    "from azure.search.documents.indexes import SearchIndexerClient\n",
    "# Create a search index\n",
    "index_client = SearchIndexClient(\n",
    "    endpoint=service_endpoint, credential=key_credential)\n",
    "\n",
    "indexer_client = SearchIndexerClient(endpoint=service_endpoint, credential=key_credential)"
   ]
  },
  {
   "cell_type": "code",
   "execution_count": 7,
   "metadata": {},
   "outputs": [],
   "source": [
    "from azure.search.documents.indexes.models import ( \n",
    "    SimpleField,\n",
    "    SearchFieldDataType,\n",
    "    SearchableField,\n",
    "    SearchField,\n",
    "    SearchIndex,\n",
    "    BM25Similarity,\n",
    "    VectorSearch,\n",
    "    HnswVectorSearchAlgorithmConfiguration,\n",
    "    #VectorSearchAlgorithmKind,\n",
    "    HnswParameters,\n",
    "    SemanticConfiguration,\n",
    "    PrioritizedFields,\n",
    "    SemanticField,\n",
    "    SemanticSettings,\n",
    "    #VectorSearchProfile\n",
    "    OcrSkill,\n",
    "    InputFieldMappingEntry,\n",
    "    OutputFieldMappingEntry,\n",
    "    MergeSkill,\n",
    "    SplitSkill,\n",
    "    ShaperSkill,\n",
    "    SearchIndexerSkillset,\n",
    "    CognitiveServicesAccountKey,\n",
    "    SearchIndexerKnowledgeStore,\n",
    "    SearchIndexerKnowledgeStoreProjection,\n",
    "    SearchIndexerKnowledgeStoreObjectProjectionSelector,\n",
    "    EntityRecognitionSkill,\n",
    "    KeyPhraseExtractionSkill   \n",
    "    \n",
    ")"
   ]
  },
  {
   "cell_type": "code",
   "execution_count": 8,
   "metadata": {},
   "outputs": [],
   "source": [
    "cognitive_services_account = CognitiveServicesAccountKey(description=os.getenv('AZURE_COGNITIVE_ACCOUNT_RESOURCE'), key=os.getenv('AZURE_COGNITIVE_ACCOUNT_KEY')) "
   ]
  },
  {
   "cell_type": "code",
   "execution_count": null,
   "metadata": {},
   "outputs": [],
   "source": [
    "ocr_skill = OcrSkill(\n",
    "    name=\"#1\", \n",
    "    description=\"Extracts text (plain and structured) from image.\",\n",
    "    context=\"/document/normalized_images/*\",\n",
    "    line_ending=\"Space\",\n",
    "    default_language_code=\"en\",\n",
    "    should_detect_orientation=True,\n",
    "    inputs=[\n",
    "        InputFieldMappingEntry(name=\"image\", source=\"/document/normalized_images/*\")\n",
    "    ],\n",
    "    outputs=[\n",
    "        OutputFieldMappingEntry(name=\"text\", target_name=\"text\")\n",
    "    ]\n",
    ")\n",
    "\n",
    "merge_skill = MergeSkill(\n",
    "    name=\"#2\",\n",
    "    description=\"Create merged_content, which includes all the textual representation of each image inserted at the right location in the content field.\",\n",
    "    context=\"/document\",\n",
    "    insert_pre_tag=\"--IMG--\",\n",
    "    insert_post_tag=\"--IMG--\",\n",
    "    inputs=[\n",
    "        InputFieldMappingEntry(name=\"text\", source=\"/document/content\"),\n",
    "        InputFieldMappingEntry(name=\"itemsToInsert\", source=\"/document/normalized_images/*/text\"),\n",
    "        InputFieldMappingEntry(name=\"offsets\", source=\"/document/normalized_images/*/contentOffset\")\n",
    "    ],\n",
    "    outputs=[\n",
    "        OutputFieldMappingEntry(name=\"mergedText\", target_name=\"mergedText\")\n",
    "    ]\n",
    ")\n",
    "\n",
    "\n",
    "split_skill = SplitSkill(\n",
    "    name=\"#3\",\n",
    "    context=\"/document\",\n",
    "    default_language_code=\"en\",\n",
    "    text_split_mode=\"pages\",\n",
    "    maximum_page_length=4000,\n",
    "    inputs=[\n",
    "        InputFieldMappingEntry(name=\"text\", source=\"/document/mergedText\")\n",
    "    ],\n",
    "    outputs=[\n",
    "        OutputFieldMappingEntry(name=\"textItems\", target_name=\"textItems\")\n",
    "    ]\n",
    ")\n",
    "\n",
    "shaper_skill = ShaperSkill(\n",
    "    name=\"#4\",\n",
    "    context=\"/document\",\n",
    "    inputs=[\n",
    "        InputFieldMappingEntry(\n",
    "            name=\"textItem\", \n",
    "            source_context=\"/document/textItems/*\",\n",
    "            inputs=[\n",
    "                InputFieldMappingEntry(name=\"metadata_spo_item_content_type\", source=\"/document/metadata_storage_content_type\"),\n",
    "                InputFieldMappingEntry(name=\"metadata_spo_item_last_modified\", source=\"/document/metadata_storage_last_modified\"),\n",
    "                InputFieldMappingEntry(name=\"metadata_spo_item_size\", source=\"/document/metadata_storage_size\"),\n",
    "                InputFieldMappingEntry(name=\"metadata_spo_item_name\", source=\"/document/metadata_storage_name\"),\n",
    "                InputFieldMappingEntry(name=\"metadata_spo_item_weburi\", source=\"/document/metadata_storage_path\"),\n",
    "                InputFieldMappingEntry(name=\"page\", source=\"/document/textItems/*\")\n",
    "            ] \n",
    "        )\n",
    "    ],\n",
    "    outputs=[\n",
    "        OutputFieldMappingEntry(name=\"output\", target_name=\"ShaperOutput\")\n",
    "    ]\n",
    ")\n"
   ]
  },
  {
   "cell_type": "code",
   "execution_count": null,
   "metadata": {},
   "outputs": [],
   "source": [
    "knowledge_store = SearchIndexerKnowledgeStore(\n",
    "    storage_connection_string=os.getenv(\"AZURE_KNOWLEDGE_STORE_RESOURCE\"),\n",
    "    identity=None,\n",
    "    projections=[\n",
    "        SearchIndexerKnowledgeStoreProjection(\n",
    "            tables=[],\n",
    "            objects=[\n",
    "                SearchIndexerKnowledgeStoreObjectProjectionSelector(\n",
    "                    storage_container=\"getest2\",\n",
    "                    reference_key_name=None,\n",
    "                    generated_key_name=\"export\",\n",
    "                    source=None,\n",
    "                    source_context=\"/document\",\n",
    "                    inputs=[\n",
    "                        InputFieldMappingEntry(name=\"pages\", source=\"/document/ShaperOutput\", source_context=None, inputs=[]),\n",
    "                    ]\n",
    "                )\n",
    "            ],\n",
    "            files=[]\n",
    "        )    \n",
    "    ],\n",
    ")\n",
    "\n"
   ]
  },
  {
   "cell_type": "code",
   "execution_count": null,
   "metadata": {},
   "outputs": [],
   "source": [
    "skillset_name=\"skillset-sharepoint-demo-index-51\"\n",
    "description=\"Skillset to split the document into pages and project to Azure Storage.\"\n",
    "skillset_sharepoint_demo_index_51 = SearchIndexerSkillset(name=skillset_name, description=description, skills=[ocr_skill, merge_skill, split_skill, shaper_skill],\n",
    "                                                          cognitive_services_account=cognitive_services_account, knowledge_store=knowledge_store)\n",
    "\n"
   ]
  },
  {
   "cell_type": "code",
   "execution_count": null,
   "metadata": {},
   "outputs": [],
   "source": [
    "indexer_client.create_skillset(skillset=skillset_sharepoint_demo_index_51)"
   ]
  },
  {
   "cell_type": "markdown",
   "metadata": {},
   "source": [
    "# skillset-sharepoint-demo-index-53"
   ]
  },
  {
   "cell_type": "code",
   "execution_count": 24,
   "metadata": {},
   "outputs": [],
   "source": [
    "entity_recognition_skill = EntityRecognitionSkill(\n",
    "    name=\"#1\",\n",
    "    description=\"Recognize organizations, persons and locations\",\n",
    "    context=\"/documentz/pagez\",\n",
    "    categories=[\"Organization\", \"Person\", \"Location\"],\n",
    "    default_language_code=\"en\",\n",
    "    inputs=[\n",
    "        InputFieldMappingEntry(name=\"text\", source=\"/document/page\")\n",
    "    ],\n",
    "    outputs=[\n",
    "        OutputFieldMappingEntry(name=\"organizations\", target_name=\"organizations\"),\n",
    "        OutputFieldMappingEntry(name=\"persons\", target_name=\"persons\"),\n",
    "        OutputFieldMappingEntry(name=\"locations\", target_name=\"locations\")\n",
    "    ]\n",
    ")\n",
    "\n",
    "key_phrase_extraction_skill=KeyPhraseExtractionSkill(\n",
    "    name=\"#2\",\n",
    "    context=\"/document/page\",\n",
    "    default_language_code=\"en\",\n",
    "    inputs=[\n",
    "        InputFieldMappingEntry(name=\"text\", source=\"/document/page\"),\n",
    "        InputFieldMappingEntry(name=\"languageCode\", source=\"/document/language\")\n",
    "    ],\n",
    "    outputs=[\n",
    "        OutputFieldMappingEntry(name=\"keyPhrases\", target_name=\"keyPhrases\")\n",
    "    ]\n",
    ")\n",
    "\n"
   ]
  },
  {
   "cell_type": "code",
   "execution_count": 25,
   "metadata": {},
   "outputs": [],
   "source": [
    "skillset_name=\"skillset-sharepoint-demo-index-53\"\n",
    "description=\"Built-in AI skills.\"\n",
    "skillset_sharepoint_demo_index_53 = SearchIndexerSkillset(name=skillset_name, description=description, skills=[entity_recognition_skill, key_phrase_extraction_skill],\n",
    "                                                          cognitive_services_account=cognitive_services_account)"
   ]
  },
  {
   "cell_type": "code",
   "execution_count": 26,
   "metadata": {},
   "outputs": [
    {
     "data": {
      "text/plain": [
       "<azure.search.documents.indexes.models._models.SearchIndexerSkillset at 0x296b7a60a10>"
      ]
     },
     "execution_count": 26,
     "metadata": {},
     "output_type": "execute_result"
    }
   ],
   "source": [
    "indexer_client.create_skillset(skillset=skillset_sharepoint_demo_index_53)"
   ]
  },
  {
   "cell_type": "code",
   "execution_count": null,
   "metadata": {},
   "outputs": [],
   "source": []
  }
 ],
 "metadata": {
  "kernelspec": {
   "display_name": "woodsidepoc",
   "language": "python",
   "name": "python3"
  },
  "language_info": {
   "codemirror_mode": {
    "name": "ipython",
    "version": 3
   },
   "file_extension": ".py",
   "mimetype": "text/x-python",
   "name": "python",
   "nbconvert_exporter": "python",
   "pygments_lexer": "ipython3",
   "version": "3.11.5"
  }
 },
 "nbformat": 4,
 "nbformat_minor": 2
}

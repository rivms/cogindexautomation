{
 "cells": [
  {
   "cell_type": "code",
   "execution_count": 1,
   "metadata": {},
   "outputs": [],
   "source": [
    "import logging\n",
    "import sys\n",
    "\n",
    "logging.basicConfig(stream=sys.stdout, level=logging.WARN)\n",
    "logging.getLogger().addHandler(logging.StreamHandler(stream=sys.stdout))"
   ]
  },
  {
   "cell_type": "code",
   "execution_count": 2,
   "metadata": {},
   "outputs": [
    {
     "name": "stdout",
     "output_type": "stream",
     "text": [
      "Installing packages into environment c:\\anaconda3\\envs\\woodsidepoc\\python.exe\n"
     ]
    }
   ],
   "source": [
    "import sys, os\n",
    "\n",
    "print(f\"Installing packages into environment {sys.executable}\")"
   ]
  },
  {
   "cell_type": "code",
   "execution_count": 3,
   "metadata": {},
   "outputs": [
    {
     "name": "stdout",
     "output_type": "stream",
     "text": [
      "Requirement already satisfied: azure-search-documents==11.4.0b8 in c:\\anaconda3\\envs\\woodsidepoc\\lib\\site-packages (11.4.0b8)\n",
      "Requirement already satisfied: azure-core<2.0.0,>=1.24.0 in c:\\anaconda3\\envs\\woodsidepoc\\lib\\site-packages (from azure-search-documents==11.4.0b8) (1.29.5)\n",
      "Requirement already satisfied: azure-common~=1.1 in c:\\anaconda3\\envs\\woodsidepoc\\lib\\site-packages (from azure-search-documents==11.4.0b8) (1.1.28)\n",
      "Requirement already satisfied: isodate>=0.6.0 in c:\\anaconda3\\envs\\woodsidepoc\\lib\\site-packages (from azure-search-documents==11.4.0b8) (0.6.1)\n",
      "Requirement already satisfied: requests>=2.18.4 in c:\\anaconda3\\envs\\woodsidepoc\\lib\\site-packages (from azure-core<2.0.0,>=1.24.0->azure-search-documents==11.4.0b8) (2.31.0)\n",
      "Requirement already satisfied: six>=1.11.0 in c:\\anaconda3\\envs\\woodsidepoc\\lib\\site-packages (from azure-core<2.0.0,>=1.24.0->azure-search-documents==11.4.0b8) (1.16.0)\n",
      "Requirement already satisfied: typing-extensions>=4.6.0 in c:\\anaconda3\\envs\\woodsidepoc\\lib\\site-packages (from azure-core<2.0.0,>=1.24.0->azure-search-documents==11.4.0b8) (4.8.0)\n",
      "Requirement already satisfied: charset-normalizer<4,>=2 in c:\\anaconda3\\envs\\woodsidepoc\\lib\\site-packages (from requests>=2.18.4->azure-core<2.0.0,>=1.24.0->azure-search-documents==11.4.0b8) (3.3.1)\n",
      "Requirement already satisfied: idna<4,>=2.5 in c:\\anaconda3\\envs\\woodsidepoc\\lib\\site-packages (from requests>=2.18.4->azure-core<2.0.0,>=1.24.0->azure-search-documents==11.4.0b8) (3.4)\n",
      "Requirement already satisfied: urllib3<3,>=1.21.1 in c:\\anaconda3\\envs\\woodsidepoc\\lib\\site-packages (from requests>=2.18.4->azure-core<2.0.0,>=1.24.0->azure-search-documents==11.4.0b8) (2.0.7)\n",
      "Requirement already satisfied: certifi>=2017.4.17 in c:\\anaconda3\\envs\\woodsidepoc\\lib\\site-packages (from requests>=2.18.4->azure-core<2.0.0,>=1.24.0->azure-search-documents==11.4.0b8) (2023.7.22)\n",
      "Requirement already satisfied: azure-identity in c:\\anaconda3\\envs\\woodsidepoc\\lib\\site-packages (1.15.0)\n",
      "Requirement already satisfied: azure-core<2.0.0,>=1.23.0 in c:\\anaconda3\\envs\\woodsidepoc\\lib\\site-packages (from azure-identity) (1.29.5)\n",
      "Requirement already satisfied: cryptography>=2.5 in c:\\anaconda3\\envs\\woodsidepoc\\lib\\site-packages (from azure-identity) (41.0.5)\n",
      "Requirement already satisfied: msal<2.0.0,>=1.24.0 in c:\\anaconda3\\envs\\woodsidepoc\\lib\\site-packages (from azure-identity) (1.24.1)\n",
      "Requirement already satisfied: msal-extensions<2.0.0,>=0.3.0 in c:\\anaconda3\\envs\\woodsidepoc\\lib\\site-packages (from azure-identity) (1.0.0)\n",
      "Requirement already satisfied: requests>=2.18.4 in c:\\anaconda3\\envs\\woodsidepoc\\lib\\site-packages (from azure-core<2.0.0,>=1.23.0->azure-identity) (2.31.0)\n",
      "Requirement already satisfied: six>=1.11.0 in c:\\anaconda3\\envs\\woodsidepoc\\lib\\site-packages (from azure-core<2.0.0,>=1.23.0->azure-identity) (1.16.0)\n",
      "Requirement already satisfied: typing-extensions>=4.6.0 in c:\\anaconda3\\envs\\woodsidepoc\\lib\\site-packages (from azure-core<2.0.0,>=1.23.0->azure-identity) (4.8.0)\n",
      "Requirement already satisfied: cffi>=1.12 in c:\\anaconda3\\envs\\woodsidepoc\\lib\\site-packages (from cryptography>=2.5->azure-identity) (1.16.0)\n",
      "Requirement already satisfied: PyJWT<3,>=1.0.0 in c:\\anaconda3\\envs\\woodsidepoc\\lib\\site-packages (from PyJWT[crypto]<3,>=1.0.0->msal<2.0.0,>=1.24.0->azure-identity) (2.8.0)\n",
      "Requirement already satisfied: portalocker<3,>=1.6 in c:\\anaconda3\\envs\\woodsidepoc\\lib\\site-packages (from msal-extensions<2.0.0,>=0.3.0->azure-identity) (2.8.2)\n",
      "Requirement already satisfied: pycparser in c:\\anaconda3\\envs\\woodsidepoc\\lib\\site-packages (from cffi>=1.12->cryptography>=2.5->azure-identity) (2.21)\n",
      "Requirement already satisfied: pywin32>=226 in c:\\anaconda3\\envs\\woodsidepoc\\lib\\site-packages (from portalocker<3,>=1.6->msal-extensions<2.0.0,>=0.3.0->azure-identity) (305.1)\n",
      "Requirement already satisfied: charset-normalizer<4,>=2 in c:\\anaconda3\\envs\\woodsidepoc\\lib\\site-packages (from requests>=2.18.4->azure-core<2.0.0,>=1.23.0->azure-identity) (3.3.1)\n",
      "Requirement already satisfied: idna<4,>=2.5 in c:\\anaconda3\\envs\\woodsidepoc\\lib\\site-packages (from requests>=2.18.4->azure-core<2.0.0,>=1.23.0->azure-identity) (3.4)\n",
      "Requirement already satisfied: urllib3<3,>=1.21.1 in c:\\anaconda3\\envs\\woodsidepoc\\lib\\site-packages (from requests>=2.18.4->azure-core<2.0.0,>=1.23.0->azure-identity) (2.0.7)\n",
      "Requirement already satisfied: certifi>=2017.4.17 in c:\\anaconda3\\envs\\woodsidepoc\\lib\\site-packages (from requests>=2.18.4->azure-core<2.0.0,>=1.23.0->azure-identity) (2023.7.22)\n",
      "Requirement already satisfied: python-dotenv in c:\\anaconda3\\envs\\woodsidepoc\\lib\\site-packages (1.0.0)\n"
     ]
    }
   ],
   "source": [
    "!{sys.executable} -m pip install azure-search-documents==11.4.0b8\n",
    "!{sys.executable} -m pip install azure-identity\n",
    "!{sys.executable} -m pip install python-dotenv"
   ]
  },
  {
   "cell_type": "code",
   "execution_count": 18,
   "metadata": {},
   "outputs": [
    {
     "data": {
      "text/plain": [
       "True"
      ]
     },
     "execution_count": 18,
     "metadata": {},
     "output_type": "execute_result"
    }
   ],
   "source": [
    "from dotenv import load_dotenv\n",
    "import os\n",
    "\n",
    "load_dotenv()  # Load environment variables from .env file"
   ]
  },
  {
   "cell_type": "code",
   "execution_count": 19,
   "metadata": {},
   "outputs": [],
   "source": [
    "from azure.core.credentials import AzureKeyCredential  \n",
    "# Configure connection\n",
    "service_endpoint = os.getenv(\"AZURE_SEARCH_SERVICE_ENDPOINT\")\n",
    "key_credential = AzureKeyCredential(os.getenv('AZURE_SEARCH_ADMIN_KEY'))"
   ]
  },
  {
   "cell_type": "code",
   "execution_count": 20,
   "metadata": {},
   "outputs": [],
   "source": [
    "from azure.search.documents.indexes import SearchIndexClient\n",
    "from azure.search.documents import SearchClient  \n",
    "from azure.search.documents.indexes import SearchIndexerClient\n",
    "\n",
    "indexer_client = SearchIndexerClient(endpoint=service_endpoint, credential=key_credential)"
   ]
  },
  {
   "cell_type": "code",
   "execution_count": 21,
   "metadata": {},
   "outputs": [],
   "source": [
    "from azure.search.documents.indexes.models import ( \n",
    "    IndexingParameters,\n",
    "    SearchIndexer,\n",
    "    FieldMapping     \n",
    ")"
   ]
  },
  {
   "cell_type": "code",
   "execution_count": 22,
   "metadata": {},
   "outputs": [],
   "source": [
    "indexer_name=\"indexer-sharepoint-demo-index-51\"\n",
    "data_source_name=\"blob-demo-datasource05\"\n",
    "skillset_name=\"skillset-sharepoint-demo-index-51\"\n",
    "target_index_name=\"sharepoint-demo-index-51\""
   ]
  },
  {
   "cell_type": "code",
   "execution_count": 23,
   "metadata": {},
   "outputs": [],
   "source": [
    "parameters = IndexingParameters(\n",
    "\n",
    "    configuration= {\n",
    "      \"indexedFileNameExtensions\": \".pdf, .docx, .doc, .ppt, .xlsx, .csv\",\n",
    "      \"excludedFileNameExtensions\": \".png, .jpg\",\n",
    "      \"dataToExtract\": \"contentAndMetadata\",\n",
    "      \"imageAction\": \"generateNormalizedImages\"    \n",
    "    }\n",
    "    \n",
    ")\n",
    "\n",
    "search_indexer = SearchIndexer(\n",
    "    name=indexer_name,\n",
    "    data_source_name=data_source_name,\n",
    "    skillset_name=skillset_name,\n",
    "    target_index_name=target_index_name,\n",
    "    parameters=parameters,\n",
    "    field_mappings = [\n",
    "        FieldMapping(\n",
    "            source_field_name=\"metadata_storage_path\",\n",
    "            target_field_name=\"id\",\n",
    "            mapping_function= { \"name\": \"base64Encode\" }\n",
    "        ),\n",
    "    ],        \n",
    "    output_field_mappings=[]\n",
    "\n",
    "\n",
    ")"
   ]
  },
  {
   "cell_type": "code",
   "execution_count": 24,
   "metadata": {},
   "outputs": [
    {
     "data": {
      "text/plain": [
       "<azure.search.documents.indexes._generated.models._models_py3.SearchIndexer at 0x1d69616be50>"
      ]
     },
     "execution_count": 24,
     "metadata": {},
     "output_type": "execute_result"
    }
   ],
   "source": [
    "indexer_client.create_indexer(search_indexer) "
   ]
  },
  {
   "cell_type": "markdown",
   "metadata": {},
   "source": [
    "# indexer-sharepoint-demo-index-53"
   ]
  },
  {
   "cell_type": "code",
   "execution_count": 28,
   "metadata": {},
   "outputs": [],
   "source": [
    "indexer_name=\"indexer-sharepoint-demo-index-53\"\n",
    "data_source_name=\"adlsgen5-export-datasource\"\n",
    "skillset_name=\"skillset-sharepoint-demo-index-53\"\n",
    "target_index_name=\"sharepoint-demo-index-53\""
   ]
  },
  {
   "cell_type": "code",
   "execution_count": 29,
   "metadata": {},
   "outputs": [],
   "source": [
    "parameters = IndexingParameters(\n",
    "\n",
    "    configuration= {\n",
    "      \"indexedFileNameExtensions\": \".json\",\n",
    "      \"excludedFileNameExtensions\": \".png, .jpg\",\n",
    "      \"dataToExtract\": \"contentAndMetadata\",\n",
    "      \"parsingMode\": \"jsonArray\",\n",
    "      \"documentRoot\": \"/pages/textItem\"   \n",
    "    }\n",
    "    \n",
    ")\n",
    "\n",
    "search_indexer = SearchIndexer(\n",
    "    name=indexer_name,\n",
    "    data_source_name=data_source_name,\n",
    "    #skillset_name=skillset_name,\n",
    "    target_index_name=target_index_name,\n",
    "    parameters=parameters,\n",
    "    field_mappings = [\n",
    "        FieldMapping(\n",
    "            source_field_name=\"AzureSearch_DocumentKey\",\n",
    "            target_field_name=\"AzureSearch_DocumentKey\",\n",
    "            mapping_function= { \"name\": \"base64Encode\" }\n",
    "        ),\n",
    "        FieldMapping(\n",
    "            source_field_name=\"/metadata_spo_item_name\",\n",
    "            target_field_name=\"metadata_spo_item_name\",\n",
    "            mapping_function=None\n",
    "        ),\n",
    "        FieldMapping(\n",
    "            source_field_name=\"/metadata_spo_item_weburi\",\n",
    "            target_field_name=\"metadata_spo_item_weburi\",\n",
    "            mapping_function=None\n",
    "        ),\n",
    "        FieldMapping(\n",
    "            source_field_name=\"/metadata_spo_item_content_type\",\n",
    "            target_field_name=\"metadata_spo_item_content_type\",\n",
    "            mapping_function=None\n",
    "        ),\n",
    "        FieldMapping(\n",
    "            source_field_name=\"/metadata_spo_item_last_modified\",\n",
    "            target_field_name=\"metadata_spo_item_last_modified\",\n",
    "            mapping_function=None\n",
    "        ),\n",
    "        FieldMapping(\n",
    "            source_field_name=\"/metadata_spo_item_size\",\n",
    "            target_field_name=\"metadata_spo_item_size\",\n",
    "            mapping_function=None\n",
    "        ),\n",
    "        FieldMapping(\n",
    "            source_field_name=\"/page\",\n",
    "            target_field_name=\"page\",\n",
    "            mapping_function=None\n",
    "        ),\n",
    "    ],        \n",
    "    output_field_mappings=[]\n",
    "\n",
    "\n",
    ")"
   ]
  },
  {
   "cell_type": "code",
   "execution_count": 31,
   "metadata": {},
   "outputs": [
    {
     "data": {
      "text/plain": [
       "<azure.search.documents.indexes._generated.models._models_py3.SearchIndexer at 0x1d696511750>"
      ]
     },
     "execution_count": 31,
     "metadata": {},
     "output_type": "execute_result"
    }
   ],
   "source": [
    "indexer_client.create_indexer(search_indexer) "
   ]
  },
  {
   "cell_type": "code",
   "execution_count": null,
   "metadata": {},
   "outputs": [],
   "source": []
  }
 ],
 "metadata": {
  "kernelspec": {
   "display_name": "woodsidepoc",
   "language": "python",
   "name": "python3"
  },
  "language_info": {
   "codemirror_mode": {
    "name": "ipython",
    "version": 3
   },
   "file_extension": ".py",
   "mimetype": "text/x-python",
   "name": "python",
   "nbconvert_exporter": "python",
   "pygments_lexer": "ipython3",
   "version": "3.11.5"
  }
 },
 "nbformat": 4,
 "nbformat_minor": 2
}

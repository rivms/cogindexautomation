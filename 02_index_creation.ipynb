{
 "cells": [
  {
   "cell_type": "code",
   "execution_count": 1,
   "metadata": {},
   "outputs": [],
   "source": [
    "import logging\n",
    "import sys\n",
    "\n",
    "logging.basicConfig(stream=sys.stdout, level=logging.WARN)\n",
    "logging.getLogger().addHandler(logging.StreamHandler(stream=sys.stdout))"
   ]
  },
  {
   "cell_type": "code",
   "execution_count": 2,
   "metadata": {},
   "outputs": [
    {
     "name": "stdout",
     "output_type": "stream",
     "text": [
      "Installing packages into environment c:\\anaconda3\\envs\\woodsidepoc\\python.exe\n"
     ]
    }
   ],
   "source": [
    "import sys, os\n",
    "\n",
    "print(f\"Installing packages into environment {sys.executable}\")"
   ]
  },
  {
   "cell_type": "code",
   "execution_count": 3,
   "metadata": {},
   "outputs": [
    {
     "name": "stdout",
     "output_type": "stream",
     "text": [
      "Requirement already satisfied: azure-search-documents==11.4.0b8 in c:\\anaconda3\\envs\\woodsidepoc\\lib\\site-packages (11.4.0b8)\n",
      "Requirement already satisfied: azure-core<2.0.0,>=1.24.0 in c:\\anaconda3\\envs\\woodsidepoc\\lib\\site-packages (from azure-search-documents==11.4.0b8) (1.29.5)\n",
      "Requirement already satisfied: azure-common~=1.1 in c:\\anaconda3\\envs\\woodsidepoc\\lib\\site-packages (from azure-search-documents==11.4.0b8) (1.1.28)\n",
      "Requirement already satisfied: isodate>=0.6.0 in c:\\anaconda3\\envs\\woodsidepoc\\lib\\site-packages (from azure-search-documents==11.4.0b8) (0.6.1)\n",
      "Requirement already satisfied: requests>=2.18.4 in c:\\anaconda3\\envs\\woodsidepoc\\lib\\site-packages (from azure-core<2.0.0,>=1.24.0->azure-search-documents==11.4.0b8) (2.31.0)\n",
      "Requirement already satisfied: six>=1.11.0 in c:\\anaconda3\\envs\\woodsidepoc\\lib\\site-packages (from azure-core<2.0.0,>=1.24.0->azure-search-documents==11.4.0b8) (1.16.0)\n",
      "Requirement already satisfied: typing-extensions>=4.6.0 in c:\\anaconda3\\envs\\woodsidepoc\\lib\\site-packages (from azure-core<2.0.0,>=1.24.0->azure-search-documents==11.4.0b8) (4.8.0)\n",
      "Requirement already satisfied: charset-normalizer<4,>=2 in c:\\anaconda3\\envs\\woodsidepoc\\lib\\site-packages (from requests>=2.18.4->azure-core<2.0.0,>=1.24.0->azure-search-documents==11.4.0b8) (3.3.1)\n",
      "Requirement already satisfied: idna<4,>=2.5 in c:\\anaconda3\\envs\\woodsidepoc\\lib\\site-packages (from requests>=2.18.4->azure-core<2.0.0,>=1.24.0->azure-search-documents==11.4.0b8) (3.4)\n",
      "Requirement already satisfied: urllib3<3,>=1.21.1 in c:\\anaconda3\\envs\\woodsidepoc\\lib\\site-packages (from requests>=2.18.4->azure-core<2.0.0,>=1.24.0->azure-search-documents==11.4.0b8) (2.0.7)\n",
      "Requirement already satisfied: certifi>=2017.4.17 in c:\\anaconda3\\envs\\woodsidepoc\\lib\\site-packages (from requests>=2.18.4->azure-core<2.0.0,>=1.24.0->azure-search-documents==11.4.0b8) (2023.7.22)\n",
      "Requirement already satisfied: azure-identity in c:\\anaconda3\\envs\\woodsidepoc\\lib\\site-packages (1.15.0)\n",
      "Requirement already satisfied: azure-core<2.0.0,>=1.23.0 in c:\\anaconda3\\envs\\woodsidepoc\\lib\\site-packages (from azure-identity) (1.29.5)\n",
      "Requirement already satisfied: cryptography>=2.5 in c:\\anaconda3\\envs\\woodsidepoc\\lib\\site-packages (from azure-identity) (41.0.5)\n",
      "Requirement already satisfied: msal<2.0.0,>=1.24.0 in c:\\anaconda3\\envs\\woodsidepoc\\lib\\site-packages (from azure-identity) (1.24.1)\n",
      "Requirement already satisfied: msal-extensions<2.0.0,>=0.3.0 in c:\\anaconda3\\envs\\woodsidepoc\\lib\\site-packages (from azure-identity) (1.0.0)\n",
      "Requirement already satisfied: requests>=2.18.4 in c:\\anaconda3\\envs\\woodsidepoc\\lib\\site-packages (from azure-core<2.0.0,>=1.23.0->azure-identity) (2.31.0)\n",
      "Requirement already satisfied: six>=1.11.0 in c:\\anaconda3\\envs\\woodsidepoc\\lib\\site-packages (from azure-core<2.0.0,>=1.23.0->azure-identity) (1.16.0)\n",
      "Requirement already satisfied: typing-extensions>=4.6.0 in c:\\anaconda3\\envs\\woodsidepoc\\lib\\site-packages (from azure-core<2.0.0,>=1.23.0->azure-identity) (4.8.0)\n",
      "Requirement already satisfied: cffi>=1.12 in c:\\anaconda3\\envs\\woodsidepoc\\lib\\site-packages (from cryptography>=2.5->azure-identity) (1.16.0)\n",
      "Requirement already satisfied: PyJWT<3,>=1.0.0 in c:\\anaconda3\\envs\\woodsidepoc\\lib\\site-packages (from PyJWT[crypto]<3,>=1.0.0->msal<2.0.0,>=1.24.0->azure-identity) (2.8.0)\n",
      "Requirement already satisfied: portalocker<3,>=1.6 in c:\\anaconda3\\envs\\woodsidepoc\\lib\\site-packages (from msal-extensions<2.0.0,>=0.3.0->azure-identity) (2.8.2)\n",
      "Requirement already satisfied: pycparser in c:\\anaconda3\\envs\\woodsidepoc\\lib\\site-packages (from cffi>=1.12->cryptography>=2.5->azure-identity) (2.21)\n",
      "Requirement already satisfied: pywin32>=226 in c:\\anaconda3\\envs\\woodsidepoc\\lib\\site-packages (from portalocker<3,>=1.6->msal-extensions<2.0.0,>=0.3.0->azure-identity) (305.1)\n",
      "Requirement already satisfied: charset-normalizer<4,>=2 in c:\\anaconda3\\envs\\woodsidepoc\\lib\\site-packages (from requests>=2.18.4->azure-core<2.0.0,>=1.23.0->azure-identity) (3.3.1)\n",
      "Requirement already satisfied: idna<4,>=2.5 in c:\\anaconda3\\envs\\woodsidepoc\\lib\\site-packages (from requests>=2.18.4->azure-core<2.0.0,>=1.23.0->azure-identity) (3.4)\n",
      "Requirement already satisfied: urllib3<3,>=1.21.1 in c:\\anaconda3\\envs\\woodsidepoc\\lib\\site-packages (from requests>=2.18.4->azure-core<2.0.0,>=1.23.0->azure-identity) (2.0.7)\n",
      "Requirement already satisfied: certifi>=2017.4.17 in c:\\anaconda3\\envs\\woodsidepoc\\lib\\site-packages (from requests>=2.18.4->azure-core<2.0.0,>=1.23.0->azure-identity) (2023.7.22)\n",
      "Requirement already satisfied: python-dotenv in c:\\anaconda3\\envs\\woodsidepoc\\lib\\site-packages (1.0.0)\n"
     ]
    }
   ],
   "source": [
    "!{sys.executable} -m pip install azure-search-documents==11.4.0b8\n",
    "!{sys.executable} -m pip install azure-identity\n",
    "!{sys.executable} -m pip install python-dotenv\n"
   ]
  },
  {
   "cell_type": "code",
   "execution_count": 5,
   "metadata": {},
   "outputs": [
    {
     "data": {
      "text/plain": [
       "True"
      ]
     },
     "execution_count": 5,
     "metadata": {},
     "output_type": "execute_result"
    }
   ],
   "source": [
    "from dotenv import load_dotenv\n",
    "import os\n",
    "\n",
    "load_dotenv()  # Load environment variables from .env file"
   ]
  },
  {
   "cell_type": "code",
   "execution_count": 6,
   "metadata": {},
   "outputs": [],
   "source": [
    "from azure.core.credentials import AzureKeyCredential  \n",
    "# Configure connection\n",
    "service_endpoint = os.getenv(\"AZURE_SEARCH_SERVICE_ENDPOINT\")\n",
    "key_credential = AzureKeyCredential(os.getenv('AZURE_SEARCH_ADMIN_KEY'))"
   ]
  },
  {
   "cell_type": "code",
   "execution_count": 7,
   "metadata": {},
   "outputs": [],
   "source": [
    "from azure.search.documents.indexes import SearchIndexClient\n",
    "from azure.search.documents import SearchClient \n",
    " \n",
    "# Create a search index\n",
    "index_client = SearchIndexClient(\n",
    "    endpoint=service_endpoint, credential=key_credential)"
   ]
  },
  {
   "cell_type": "code",
   "execution_count": null,
   "metadata": {},
   "outputs": [],
   "source": [
    "#indexes = index_client.list_indexes()\n",
    "\n",
    "#for index in indexes:\n",
    "#    print(index.name)"
   ]
  },
  {
   "cell_type": "code",
   "execution_count": 19,
   "metadata": {},
   "outputs": [],
   "source": [
    "from azure.search.documents.indexes.models import ( \n",
    "    SimpleField,\n",
    "    SearchFieldDataType,\n",
    "    SearchableField,\n",
    "    SearchField,\n",
    "    SearchIndex,\n",
    "    BM25Similarity,\n",
    "    VectorSearch,\n",
    "    HnswVectorSearchAlgorithmConfiguration,\n",
    "    HnswParameters,\n",
    "    SemanticConfiguration,\n",
    "    PrioritizedFields,\n",
    "    SemanticField,\n",
    "    SemanticSettings\n",
    ")"
   ]
  },
  {
   "cell_type": "code",
   "execution_count": 20,
   "metadata": {},
   "outputs": [],
   "source": [
    "index_name=\"sharepoint-demo-index-51\""
   ]
  },
  {
   "cell_type": "code",
   "execution_count": 21,
   "metadata": {},
   "outputs": [],
   "source": [
    "fields = [\n",
    "    SimpleField(name=\"id\", type=SearchFieldDataType.String, key=True, searchable=False, filterable=True, retrievable=True, sortable=True, facetable=True),\n",
    "    SearchableField(name=\"metadata_spo_item_name\", type=SearchFieldDataType.String),\n",
    "    SimpleField(name=\"metadata_spo_item_path\", type=SearchFieldDataType.String, key=False, searchable=False, filterable=False, retrievable=True, sortable=False, facetable=False),\n",
    "    SimpleField(name=\"metadata_spo_item_content_type\", type=SearchFieldDataType.String, key=False, searchable=False, filterable=True, retrievable=True, sortable=False, facetable=True),\n",
    "    SimpleField(name=\"metadata_spo_item_last_modified\", type=SearchFieldDataType.DateTimeOffset, key=False, searchable=False, filterable=False, retrievable=True, sortable=True, facetable=False),\n",
    "    SimpleField(name=\"metadata_spo_item_size\", type=SearchFieldDataType.Int64, key=False, searchable=False, filterable=False, retrievable=True, sortable=False, facetable=False),\n",
    "    SearchableField(name=\"content\", type=SearchFieldDataType.String),\n",
    "    SimpleField(name=\"metadata_spo_item_weburi\", type=SearchFieldDataType.String, searchable=False, filterable=False, retrievable=True, sortable=False, facetable=False),\n",
    "    SearchField(name=\"textItems\", type=SearchFieldDataType.Collection(SearchFieldDataType.String), filterable=False, sortable=False, facetable=False),\n",
    "]"
   ]
  },
  {
   "cell_type": "code",
   "execution_count": 22,
   "metadata": {},
   "outputs": [],
   "source": [
    "index = SearchIndex(name=index_name, fields=fields, similarity=BM25Similarity())"
   ]
  },
  {
   "cell_type": "code",
   "execution_count": 23,
   "metadata": {},
   "outputs": [
    {
     "ename": "HttpResponseError",
     "evalue": "(ResourceNameAlreadyInUse) Cannot create index 'sharepoint-demo-index-51' because it already exists.\nCode: ResourceNameAlreadyInUse\nMessage: Cannot create index 'sharepoint-demo-index-51' because it already exists.\nException Details:\t(CannotCreateExistingIndex) Cannot create index 'sharepoint-demo-index-51' because it already exists.\n\tCode: CannotCreateExistingIndex\n\tMessage: Cannot create index 'sharepoint-demo-index-51' because it already exists.",
     "output_type": "error",
     "traceback": [
      "\u001b[1;31m---------------------------------------------------------------------------\u001b[0m",
      "\u001b[1;31mHttpResponseError\u001b[0m                         Traceback (most recent call last)",
      "\u001b[1;32mc:\\source_code\\github.com\\rivms\\cogindexautomation\\index_creation.ipynb Cell 12\u001b[0m line \u001b[0;36m1\n\u001b[1;32m----> <a href='vscode-notebook-cell:/c%3A/source_code/github.com/rivms/cogindexautomation/index_creation.ipynb#X26sZmlsZQ%3D%3D?line=0'>1</a>\u001b[0m sharepoint_demo_index_51 \u001b[39m=\u001b[39m index_client\u001b[39m.\u001b[39;49mcreate_index(index)\n\u001b[0;32m      <a href='vscode-notebook-cell:/c%3A/source_code/github.com/rivms/cogindexautomation/index_creation.ipynb#X26sZmlsZQ%3D%3D?line=1'>2</a>\u001b[0m \u001b[39mprint\u001b[39m(\u001b[39mf\u001b[39m\u001b[39m\"\u001b[39m\u001b[39mCreated index \u001b[39m\u001b[39m{\u001b[39;00msharepoint_demo_index_51\u001b[39m.\u001b[39mname\u001b[39m}\u001b[39;00m\u001b[39m\"\u001b[39m)\n",
      "File \u001b[1;32mc:\\anaconda3\\envs\\woodsidepoc\\Lib\\site-packages\\azure\\core\\tracing\\decorator.py:78\u001b[0m, in \u001b[0;36mdistributed_trace.<locals>.decorator.<locals>.wrapper_use_tracer\u001b[1;34m(*args, **kwargs)\u001b[0m\n\u001b[0;32m     76\u001b[0m span_impl_type \u001b[39m=\u001b[39m settings\u001b[39m.\u001b[39mtracing_implementation()\n\u001b[0;32m     77\u001b[0m \u001b[39mif\u001b[39;00m span_impl_type \u001b[39mis\u001b[39;00m \u001b[39mNone\u001b[39;00m:\n\u001b[1;32m---> 78\u001b[0m     \u001b[39mreturn\u001b[39;00m func(\u001b[39m*\u001b[39;49margs, \u001b[39m*\u001b[39;49m\u001b[39m*\u001b[39;49mkwargs)\n\u001b[0;32m     80\u001b[0m \u001b[39m# Merge span is parameter is set, but only if no explicit parent are passed\u001b[39;00m\n\u001b[0;32m     81\u001b[0m \u001b[39mif\u001b[39;00m merge_span \u001b[39mand\u001b[39;00m \u001b[39mnot\u001b[39;00m passed_in_parent:\n",
      "File \u001b[1;32mc:\\anaconda3\\envs\\woodsidepoc\\Lib\\site-packages\\azure\\search\\documents\\indexes\\_search_index_client.py:211\u001b[0m, in \u001b[0;36mSearchIndexClient.create_index\u001b[1;34m(self, index, **kwargs)\u001b[0m\n\u001b[0;32m    209\u001b[0m kwargs[\u001b[39m\"\u001b[39m\u001b[39mheaders\u001b[39m\u001b[39m\"\u001b[39m] \u001b[39m=\u001b[39m \u001b[39mself\u001b[39m\u001b[39m.\u001b[39m_merge_client_headers(kwargs\u001b[39m.\u001b[39mget(\u001b[39m\"\u001b[39m\u001b[39mheaders\u001b[39m\u001b[39m\"\u001b[39m))\n\u001b[0;32m    210\u001b[0m patched_index \u001b[39m=\u001b[39m index\u001b[39m.\u001b[39m_to_generated()  \u001b[39m# pylint:disable=protected-access\u001b[39;00m\n\u001b[1;32m--> 211\u001b[0m result \u001b[39m=\u001b[39m \u001b[39mself\u001b[39;49m\u001b[39m.\u001b[39;49m_client\u001b[39m.\u001b[39;49mindexes\u001b[39m.\u001b[39;49mcreate(patched_index, \u001b[39m*\u001b[39;49m\u001b[39m*\u001b[39;49mkwargs)\n\u001b[0;32m    212\u001b[0m \u001b[39mreturn\u001b[39;00m SearchIndex\u001b[39m.\u001b[39m_from_generated(result)\n",
      "File \u001b[1;32mc:\\anaconda3\\envs\\woodsidepoc\\Lib\\site-packages\\azure\\core\\tracing\\decorator.py:78\u001b[0m, in \u001b[0;36mdistributed_trace.<locals>.decorator.<locals>.wrapper_use_tracer\u001b[1;34m(*args, **kwargs)\u001b[0m\n\u001b[0;32m     76\u001b[0m span_impl_type \u001b[39m=\u001b[39m settings\u001b[39m.\u001b[39mtracing_implementation()\n\u001b[0;32m     77\u001b[0m \u001b[39mif\u001b[39;00m span_impl_type \u001b[39mis\u001b[39;00m \u001b[39mNone\u001b[39;00m:\n\u001b[1;32m---> 78\u001b[0m     \u001b[39mreturn\u001b[39;00m func(\u001b[39m*\u001b[39;49margs, \u001b[39m*\u001b[39;49m\u001b[39m*\u001b[39;49mkwargs)\n\u001b[0;32m     80\u001b[0m \u001b[39m# Merge span is parameter is set, but only if no explicit parent are passed\u001b[39;00m\n\u001b[0;32m     81\u001b[0m \u001b[39mif\u001b[39;00m merge_span \u001b[39mand\u001b[39;00m \u001b[39mnot\u001b[39;00m passed_in_parent:\n",
      "File \u001b[1;32mc:\\anaconda3\\envs\\woodsidepoc\\Lib\\site-packages\\azure\\search\\documents\\indexes\\_generated\\operations\\_indexes_operations.py:403\u001b[0m, in \u001b[0;36mIndexesOperations.create\u001b[1;34m(self, index, request_options, **kwargs)\u001b[0m\n\u001b[0;32m    401\u001b[0m     map_error(status_code\u001b[39m=\u001b[39mresponse\u001b[39m.\u001b[39mstatus_code, response\u001b[39m=\u001b[39mresponse, error_map\u001b[39m=\u001b[39merror_map)\n\u001b[0;32m    402\u001b[0m     error \u001b[39m=\u001b[39m \u001b[39mself\u001b[39m\u001b[39m.\u001b[39m_deserialize\u001b[39m.\u001b[39mfailsafe_deserialize(_models\u001b[39m.\u001b[39mSearchError, pipeline_response)\n\u001b[1;32m--> 403\u001b[0m     \u001b[39mraise\u001b[39;00m HttpResponseError(response\u001b[39m=\u001b[39mresponse, model\u001b[39m=\u001b[39merror)\n\u001b[0;32m    405\u001b[0m deserialized \u001b[39m=\u001b[39m \u001b[39mself\u001b[39m\u001b[39m.\u001b[39m_deserialize(\u001b[39m\"\u001b[39m\u001b[39mSearchIndex\u001b[39m\u001b[39m\"\u001b[39m, pipeline_response)\n\u001b[0;32m    407\u001b[0m \u001b[39mif\u001b[39;00m \u001b[39mcls\u001b[39m:\n",
      "\u001b[1;31mHttpResponseError\u001b[0m: (ResourceNameAlreadyInUse) Cannot create index 'sharepoint-demo-index-51' because it already exists.\nCode: ResourceNameAlreadyInUse\nMessage: Cannot create index 'sharepoint-demo-index-51' because it already exists.\nException Details:\t(CannotCreateExistingIndex) Cannot create index 'sharepoint-demo-index-51' because it already exists.\n\tCode: CannotCreateExistingIndex\n\tMessage: Cannot create index 'sharepoint-demo-index-51' because it already exists."
     ]
    }
   ],
   "source": [
    "sharepoint_demo_index_51 = index_client.create_index(index)\n",
    "print(f\"Created index {sharepoint_demo_index_51.name}\")"
   ]
  },
  {
   "cell_type": "code",
   "execution_count": 24,
   "metadata": {},
   "outputs": [],
   "source": [
    "index_name=\"sharepoint-demo-index-53\""
   ]
  },
  {
   "cell_type": "code",
   "execution_count": 25,
   "metadata": {},
   "outputs": [],
   "source": [
    "vector_search = VectorSearch(\n",
    "    algorithm_configurations=[\n",
    "        HnswVectorSearchAlgorithmConfiguration(\n",
    "            name=\"page-vector-config\",\n",
    "            kind=\"hnsw\",\n",
    "            parameters=HnswParameters(\n",
    "                m=4,\n",
    "                ef_construction=400,\n",
    "                ef_search=500,\n",
    "                metric=\"cosine\"\n",
    "            )\n",
    "        )\n",
    "    ]\n",
    ")"
   ]
  },
  {
   "cell_type": "code",
   "execution_count": 26,
   "metadata": {},
   "outputs": [],
   "source": [
    "semantic_config = SemanticConfiguration(\n",
    "    name=\"semantic-config-1\",\n",
    "    prioritized_fields=PrioritizedFields(\n",
    "        title_field=SemanticField(field_name=\"metadata_spo_item_name\"),\n",
    "        prioritized_keywords_fields=[SemanticField(field_name=\"keyPhrases\")],\n",
    "        prioritized_content_fields=[SemanticField(field_name=\"page\")]\n",
    "    )\n",
    ")\n",
    "\n",
    "semantic_settings = SemanticSettings(configurations=[semantic_config])"
   ]
  },
  {
   "cell_type": "code",
   "execution_count": 27,
   "metadata": {},
   "outputs": [],
   "source": [
    "fields = [\n",
    "    SimpleField(name=\"AzureSearch_DocumentKey\", type=SearchFieldDataType.String, key=True, searchable=False, filterable=True, retrievable=True, sortable=True, facetable=True),\n",
    "    SearchableField(name=\"metadata_spo_item_name\", type=SearchFieldDataType.String),\n",
    "    SimpleField(name=\"metadata_spo_item_content_type\", type=SearchFieldDataType.String, key=False, searchable=False, filterable=True, retrievable=True, sortable=False, facetable=True),\n",
    "    SimpleField(name=\"metadata_spo_item_last_modified\", type=SearchFieldDataType.DateTimeOffset, key=False, searchable=False, filterable=False, retrievable=True, sortable=True, facetable=False),\n",
    "    SimpleField(name=\"metadata_spo_item_size\", type=SearchFieldDataType.Int64, key=False, searchable=False, filterable=False, retrievable=True, sortable=False, facetable=False),\n",
    "    SimpleField(name=\"metadata_spo_item_weburi\", type=SearchFieldDataType.String, searchable=False, filterable=False, retrievable=True, sortable=False, facetable=False),\n",
    "    SearchableField(name=\"page\", type=SearchFieldDataType.String),\n",
    "    SearchField(name=\"organizations\", type=SearchFieldDataType.Collection(SearchFieldDataType.String)),\n",
    "    SearchField(name=\"persons\", type=SearchFieldDataType.Collection(SearchFieldDataType.String)),\n",
    "    SearchField(name=\"locations\", type=SearchFieldDataType.Collection(SearchFieldDataType.String)),\n",
    "    SearchField(name=\"keyPhrases\", type=SearchFieldDataType.Collection(SearchFieldDataType.String)),\n",
    "    SearchField(name=\"ocrText\", type=SearchFieldDataType.Collection(SearchFieldDataType.String)),\n",
    "    SearchField(name=\"pageVector\", type=SearchFieldDataType.Collection(SearchFieldDataType.Single), filterable=False, sortable=False, facetable=False, vector_search_dimensions=1536, vector_search_configuration=\"page-vector-config\"),\n",
    "]"
   ]
  },
  {
   "cell_type": "code",
   "execution_count": 28,
   "metadata": {},
   "outputs": [],
   "source": [
    "index = SearchIndex(name=index_name, fields=fields, vector_search=vector_search, semantic_settings=semantic_settings, similarity=BM25Similarity())"
   ]
  },
  {
   "cell_type": "code",
   "execution_count": 29,
   "metadata": {},
   "outputs": [
    {
     "name": "stdout",
     "output_type": "stream",
     "text": [
      "Created index sharepoint-demo-index-53\n"
     ]
    }
   ],
   "source": [
    "sharepoint_demo_index_53 = index_client.create_index(index)\n",
    "print(f\"Created index {sharepoint_demo_index_53.name}\")"
   ]
  },
  {
   "cell_type": "code",
   "execution_count": null,
   "metadata": {},
   "outputs": [],
   "source": []
  },
  {
   "cell_type": "code",
   "execution_count": null,
   "metadata": {},
   "outputs": [],
   "source": []
  }
 ],
 "metadata": {
  "kernelspec": {
   "display_name": "woodsidepoc",
   "language": "python",
   "name": "python3"
  },
  "language_info": {
   "codemirror_mode": {
    "name": "ipython",
    "version": 3
   },
   "file_extension": ".py",
   "mimetype": "text/x-python",
   "name": "python",
   "nbconvert_exporter": "python",
   "pygments_lexer": "ipython3",
   "version": "3.11.5"
  }
 },
 "nbformat": 4,
 "nbformat_minor": 2
}
